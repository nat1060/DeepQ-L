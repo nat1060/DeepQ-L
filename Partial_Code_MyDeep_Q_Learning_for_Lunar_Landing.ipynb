{
  "cells": [
    {
      "cell_type": "markdown",
      "metadata": {
        "id": "view-in-github",
        "colab_type": "text"
      },
      "source": [
        "<a href=\"https://colab.research.google.com/github/nat1060/DeepQ-L/blob/main/Partial_Code_MyDeep_Q_Learning_for_Lunar_Landing.ipynb\" target=\"_parent\"><img src=\"https://colab.research.google.com/assets/colab-badge.svg\" alt=\"Open In Colab\"/></a>"
      ]
    },
    {
      "cell_type": "markdown",
      "metadata": {
        "id": "LbZcI9ZXHl3a"
      },
      "source": [
        "# Deep Q-Learning for Lunar Landing"
      ]
    },
    {
      "cell_type": "markdown",
      "metadata": {
        "id": "E8yPRjteXgPb"
      },
      "source": [
        "## Part 0 - Installing the required packages and importing the libraries"
      ]
    },
    {
      "cell_type": "markdown",
      "metadata": {
        "id": "slEm5teGWjWU"
      },
      "source": [
        "### Installing Gymnasium"
      ]
    },
    {
      "cell_type": "code",
      "execution_count": 1,
      "metadata": {
        "id": "dbnq3XpoKa_7",
        "colab": {
          "base_uri": "https://localhost:8080/"
        },
        "outputId": "053fdc5c-09b7-4f14-b39a-c0e95f736780"
      },
      "outputs": [
        {
          "output_type": "stream",
          "name": "stdout",
          "text": [
            "Collecting gymnasium\n",
            "  Downloading gymnasium-0.29.1-py3-none-any.whl (953 kB)\n",
            "\u001b[2K     \u001b[90m━━━━━━━━━━━━━━━━━━━━━━━━━━━━━━━━━━━━━━━━\u001b[0m \u001b[32m953.9/953.9 kB\u001b[0m \u001b[31m15.3 MB/s\u001b[0m eta \u001b[36m0:00:00\u001b[0m\n",
            "\u001b[?25hRequirement already satisfied: numpy>=1.21.0 in /usr/local/lib/python3.10/dist-packages (from gymnasium) (1.23.5)\n",
            "Requirement already satisfied: cloudpickle>=1.2.0 in /usr/local/lib/python3.10/dist-packages (from gymnasium) (2.2.1)\n",
            "Requirement already satisfied: typing-extensions>=4.3.0 in /usr/local/lib/python3.10/dist-packages (from gymnasium) (4.5.0)\n",
            "Collecting farama-notifications>=0.0.1 (from gymnasium)\n",
            "  Downloading Farama_Notifications-0.0.4-py3-none-any.whl (2.5 kB)\n",
            "Installing collected packages: farama-notifications, gymnasium\n",
            "Successfully installed farama-notifications-0.0.4 gymnasium-0.29.1\n",
            "Requirement already satisfied: gymnasium[accept-rom-license,atari] in /usr/local/lib/python3.10/dist-packages (0.29.1)\n",
            "Requirement already satisfied: numpy>=1.21.0 in /usr/local/lib/python3.10/dist-packages (from gymnasium[accept-rom-license,atari]) (1.23.5)\n",
            "Requirement already satisfied: cloudpickle>=1.2.0 in /usr/local/lib/python3.10/dist-packages (from gymnasium[accept-rom-license,atari]) (2.2.1)\n",
            "Requirement already satisfied: typing-extensions>=4.3.0 in /usr/local/lib/python3.10/dist-packages (from gymnasium[accept-rom-license,atari]) (4.5.0)\n",
            "Requirement already satisfied: farama-notifications>=0.0.1 in /usr/local/lib/python3.10/dist-packages (from gymnasium[accept-rom-license,atari]) (0.0.4)\n",
            "Collecting shimmy[atari]<1.0,>=0.1.0 (from gymnasium[accept-rom-license,atari])\n",
            "  Downloading Shimmy-0.2.1-py3-none-any.whl (25 kB)\n",
            "Collecting autorom[accept-rom-license]~=0.4.2 (from gymnasium[accept-rom-license,atari])\n",
            "  Downloading AutoROM-0.4.2-py3-none-any.whl (16 kB)\n",
            "Requirement already satisfied: click in /usr/local/lib/python3.10/dist-packages (from autorom[accept-rom-license]~=0.4.2->gymnasium[accept-rom-license,atari]) (8.1.7)\n",
            "Requirement already satisfied: requests in /usr/local/lib/python3.10/dist-packages (from autorom[accept-rom-license]~=0.4.2->gymnasium[accept-rom-license,atari]) (2.31.0)\n",
            "Requirement already satisfied: tqdm in /usr/local/lib/python3.10/dist-packages (from autorom[accept-rom-license]~=0.4.2->gymnasium[accept-rom-license,atari]) (4.66.1)\n",
            "Collecting AutoROM.accept-rom-license (from autorom[accept-rom-license]~=0.4.2->gymnasium[accept-rom-license,atari])\n",
            "  Downloading AutoROM.accept-rom-license-0.6.1.tar.gz (434 kB)\n",
            "\u001b[2K     \u001b[90m━━━━━━━━━━━━━━━━━━━━━━━━━━━━━━━━━━━━━━━━\u001b[0m \u001b[32m434.7/434.7 kB\u001b[0m \u001b[31m11.3 MB/s\u001b[0m eta \u001b[36m0:00:00\u001b[0m\n",
            "\u001b[?25h  Installing build dependencies ... \u001b[?25l\u001b[?25hdone\n",
            "  Getting requirements to build wheel ... \u001b[?25l\u001b[?25hdone\n",
            "  Preparing metadata (pyproject.toml) ... \u001b[?25l\u001b[?25hdone\n",
            "Collecting ale-py~=0.8.1 (from shimmy[atari]<1.0,>=0.1.0->gymnasium[accept-rom-license,atari])\n",
            "  Downloading ale_py-0.8.1-cp310-cp310-manylinux_2_17_x86_64.manylinux2014_x86_64.whl (1.7 MB)\n",
            "\u001b[2K     \u001b[90m━━━━━━━━━━━━━━━━━━━━━━━━━━━━━━━━━━━━━━━━\u001b[0m \u001b[32m1.7/1.7 MB\u001b[0m \u001b[31m76.5 MB/s\u001b[0m eta \u001b[36m0:00:00\u001b[0m\n",
            "\u001b[?25hRequirement already satisfied: importlib-resources in /usr/local/lib/python3.10/dist-packages (from ale-py~=0.8.1->shimmy[atari]<1.0,>=0.1.0->gymnasium[accept-rom-license,atari]) (6.1.1)\n",
            "Requirement already satisfied: charset-normalizer<4,>=2 in /usr/local/lib/python3.10/dist-packages (from requests->autorom[accept-rom-license]~=0.4.2->gymnasium[accept-rom-license,atari]) (3.3.2)\n",
            "Requirement already satisfied: idna<4,>=2.5 in /usr/local/lib/python3.10/dist-packages (from requests->autorom[accept-rom-license]~=0.4.2->gymnasium[accept-rom-license,atari]) (3.6)\n",
            "Requirement already satisfied: urllib3<3,>=1.21.1 in /usr/local/lib/python3.10/dist-packages (from requests->autorom[accept-rom-license]~=0.4.2->gymnasium[accept-rom-license,atari]) (2.0.7)\n",
            "Requirement already satisfied: certifi>=2017.4.17 in /usr/local/lib/python3.10/dist-packages (from requests->autorom[accept-rom-license]~=0.4.2->gymnasium[accept-rom-license,atari]) (2023.11.17)\n",
            "Building wheels for collected packages: AutoROM.accept-rom-license\n",
            "  Building wheel for AutoROM.accept-rom-license (pyproject.toml) ... \u001b[?25l\u001b[?25hdone\n",
            "  Created wheel for AutoROM.accept-rom-license: filename=AutoROM.accept_rom_license-0.6.1-py3-none-any.whl size=446660 sha256=d6d0a22b81e3c74bbab7788b437fad232867707bca773f822da11aac5c8cb1df\n",
            "  Stored in directory: /root/.cache/pip/wheels/6b/1b/ef/a43ff1a2f1736d5711faa1ba4c1f61be1131b8899e6a057811\n",
            "Successfully built AutoROM.accept-rom-license\n",
            "Installing collected packages: ale-py, shimmy, AutoROM.accept-rom-license, autorom\n",
            "Successfully installed AutoROM.accept-rom-license-0.6.1 ale-py-0.8.1 autorom-0.4.2 shimmy-0.2.1\n",
            "Reading package lists... Done\n",
            "Building dependency tree... Done\n",
            "Reading state information... Done\n",
            "The following additional packages will be installed:\n",
            "  swig4.0\n",
            "Suggested packages:\n",
            "  swig-doc swig-examples swig4.0-examples swig4.0-doc\n",
            "The following NEW packages will be installed:\n",
            "  swig swig4.0\n",
            "0 upgraded, 2 newly installed, 0 to remove and 15 not upgraded.\n",
            "Need to get 1,116 kB of archives.\n",
            "After this operation, 5,542 kB of additional disk space will be used.\n",
            "Get:1 http://archive.ubuntu.com/ubuntu jammy/universe amd64 swig4.0 amd64 4.0.2-1ubuntu1 [1,110 kB]\n",
            "Get:2 http://archive.ubuntu.com/ubuntu jammy/universe amd64 swig all 4.0.2-1ubuntu1 [5,632 B]\n",
            "Fetched 1,116 kB in 0s (6,853 kB/s)\n",
            "Selecting previously unselected package swig4.0.\n",
            "(Reading database ... 120899 files and directories currently installed.)\n",
            "Preparing to unpack .../swig4.0_4.0.2-1ubuntu1_amd64.deb ...\n",
            "Unpacking swig4.0 (4.0.2-1ubuntu1) ...\n",
            "Selecting previously unselected package swig.\n",
            "Preparing to unpack .../swig_4.0.2-1ubuntu1_all.deb ...\n",
            "Unpacking swig (4.0.2-1ubuntu1) ...\n",
            "Setting up swig4.0 (4.0.2-1ubuntu1) ...\n",
            "Setting up swig (4.0.2-1ubuntu1) ...\n",
            "Processing triggers for man-db (2.10.2-1) ...\n",
            "Requirement already satisfied: gymnasium[box2d] in /usr/local/lib/python3.10/dist-packages (0.29.1)\n",
            "Requirement already satisfied: numpy>=1.21.0 in /usr/local/lib/python3.10/dist-packages (from gymnasium[box2d]) (1.23.5)\n",
            "Requirement already satisfied: cloudpickle>=1.2.0 in /usr/local/lib/python3.10/dist-packages (from gymnasium[box2d]) (2.2.1)\n",
            "Requirement already satisfied: typing-extensions>=4.3.0 in /usr/local/lib/python3.10/dist-packages (from gymnasium[box2d]) (4.5.0)\n",
            "Requirement already satisfied: farama-notifications>=0.0.1 in /usr/local/lib/python3.10/dist-packages (from gymnasium[box2d]) (0.0.4)\n",
            "Collecting box2d-py==2.3.5 (from gymnasium[box2d])\n",
            "  Downloading box2d-py-2.3.5.tar.gz (374 kB)\n",
            "\u001b[2K     \u001b[90m━━━━━━━━━━━━━━━━━━━━━━━━━━━━━━━━━━━━━━━━\u001b[0m \u001b[32m374.4/374.4 kB\u001b[0m \u001b[31m8.4 MB/s\u001b[0m eta \u001b[36m0:00:00\u001b[0m\n",
            "\u001b[?25h  Preparing metadata (setup.py) ... \u001b[?25l\u001b[?25hdone\n",
            "Requirement already satisfied: pygame>=2.1.3 in /usr/local/lib/python3.10/dist-packages (from gymnasium[box2d]) (2.5.2)\n",
            "Collecting swig==4.* (from gymnasium[box2d])\n",
            "  Downloading swig-4.1.1.post1-py2.py3-none-manylinux_2_5_x86_64.manylinux1_x86_64.whl (1.8 MB)\n",
            "\u001b[2K     \u001b[90m━━━━━━━━━━━━━━━━━━━━━━━━━━━━━━━━━━━━━━━━\u001b[0m \u001b[32m1.8/1.8 MB\u001b[0m \u001b[31m25.8 MB/s\u001b[0m eta \u001b[36m0:00:00\u001b[0m\n",
            "\u001b[?25hBuilding wheels for collected packages: box2d-py\n",
            "  Building wheel for box2d-py (setup.py) ... \u001b[?25l\u001b[?25hdone\n",
            "  Created wheel for box2d-py: filename=box2d_py-2.3.5-cp310-cp310-linux_x86_64.whl size=2349142 sha256=2b9b321cf8df45abc56594918fb0bb56b9643a6840a546b9bcc73237c27ed413\n",
            "  Stored in directory: /root/.cache/pip/wheels/db/8f/6a/eaaadf056fba10a98d986f6dce954e6201ba3126926fc5ad9e\n",
            "Successfully built box2d-py\n",
            "Installing collected packages: swig, box2d-py\n",
            "Successfully installed box2d-py-2.3.5 swig-4.1.1.post1\n"
          ]
        }
      ],
      "source": [
        "!pip install gymnasium\n",
        "!pip install \"gymnasium[atari, accept-rom-license]\"\n",
        "!apt-get install -y swig\n",
        "!pip install gymnasium[box2d]"
      ]
    },
    {
      "cell_type": "markdown",
      "metadata": {
        "id": "brqiMN3UW9T9"
      },
      "source": [
        "### Importing the libraries"
      ]
    },
    {
      "cell_type": "code",
      "execution_count": 2,
      "metadata": {
        "id": "mZaKXP_aMl9O"
      },
      "outputs": [],
      "source": [
        "import os\n",
        "import random\n",
        "import numpy as np\n",
        "import torch\n",
        "import torch.nn as nn\n",
        "import torch.optim as optim\n",
        "import torch.nn.functional as F\n",
        "import torch.autograd as autograd\n",
        "from torch.autograd import Variable\n",
        "from collections import deque, namedtuple"
      ]
    },
    {
      "cell_type": "markdown",
      "metadata": {
        "id": "EzlDKXvkXzGI"
      },
      "source": [
        "## Part 1 - Building the AI"
      ]
    },
    {
      "cell_type": "code",
      "source": [
        "class NeuralNetwork(nn.Module):\n",
        "\n",
        "  #Defining the Neural Network Object\n",
        "  def __init__(self, state_size, action_size, seed = 42):\n",
        "      super(NeuralNetwork, self).__init__()\n",
        "      self.seed = torch.manual_seed(seed)\n",
        "      #Adding the Layers\n",
        "      self.fc1 = nn.Linear(state_size, 64)\n",
        "      self.fc2 = nn.Linear(64, 64)\n",
        "      self.fc3 = nn.Linear(64, action_size)\n",
        "\n",
        "  def forward(self, state):\n",
        "    x = self.fc1(state)\n",
        "    x = F.relu(x) #What's This funtion ?\n",
        "    x = self.fc2(x)\n",
        "    x = F.relu(x)\n",
        "    return self.fc3(x)"
      ],
      "metadata": {
        "id": "asI6skES6783"
      },
      "execution_count": 3,
      "outputs": []
    },
    {
      "cell_type": "markdown",
      "source": [],
      "metadata": {
        "id": "QCPACRtS66KT"
      }
    },
    {
      "cell_type": "markdown",
      "metadata": {
        "id": "UtG6Zc83YYy3"
      },
      "source": [
        "### Creating the architecture of the Neural Network"
      ]
    },
    {
      "cell_type": "markdown",
      "metadata": {
        "id": "UxVrBnFWZKb1"
      },
      "source": [
        "## Part 2 - Training the AI"
      ]
    },
    {
      "cell_type": "markdown",
      "metadata": {
        "id": "T364fz9qZb2j"
      },
      "source": [
        "### Setting up the environment"
      ]
    },
    {
      "cell_type": "code",
      "source": [
        "import gymnasium as gym\n",
        "env = gym.make('LunarLander-v2')\n",
        "state_shape = env.observation_space.shape\n",
        "state_size = env.observation_space.shape[0]\n",
        "number_actions = env.action_space.n\n",
        "print('State shape: ', state_shape)\n",
        "print('State size: ', state_size)\n",
        "print('Number of actions: ',number_actions)"
      ],
      "metadata": {
        "colab": {
          "base_uri": "https://localhost:8080/"
        },
        "id": "rDxUIluWC2Sc",
        "outputId": "961d6cd5-8de5-40ee-cedc-9b114959de20"
      },
      "execution_count": 4,
      "outputs": [
        {
          "output_type": "stream",
          "name": "stdout",
          "text": [
            "State shape:  (8,)\n",
            "State size:  8\n",
            "Number of actions:  4\n"
          ]
        }
      ]
    },
    {
      "cell_type": "markdown",
      "metadata": {
        "id": "c_dZmOIvZgj-"
      },
      "source": [
        "### Initializing the hyperparameters"
      ]
    },
    {
      "cell_type": "code",
      "source": [
        "learning_rate = 5e-4\n",
        "minibatch_size = 100\n",
        "discount_factor = 0.99 # Gamma, PV of future rewards, low is short sided only looking at current rewards, or high, mainly looking into the future\n",
        "replay_buffer_size = int(1e5)  # size of the memory of AI, stabilize and improve training process, 100K experiences in AI memory\n",
        "interpolation_parameter = 1e-3  #Tau, used in the subupdate of the target network"
      ],
      "metadata": {
        "id": "AzjObhdCHRDD"
      },
      "execution_count": 5,
      "outputs": []
    },
    {
      "cell_type": "markdown",
      "metadata": {
        "id": "8hD_Vs-bYnip"
      },
      "source": [
        "### Implementing Experience Replay"
      ]
    },
    {
      "cell_type": "code",
      "source": [
        "class ReplayMemory(object):\n",
        "\n",
        "  def __init__(self, capacity):\n",
        "     self.device = torch.device(\"cuda:0\" if torch.cuda.is_available() else \"cpu\")\n",
        "     self.capacity = capacity\n",
        "     self.memory = [] # empty list that stores the experiences\n",
        "\n",
        "# Adds an Experience event into the memory buffer\n",
        "  def push(self, event):\n",
        "    self.memory.append(event)\n",
        "    if len(self.memory) > self.capacity: #delete the first experience in the list if the list gets to the limit\n",
        "      del self.memory[0]\n",
        "\n",
        "# Samples randomly select a batch of experiences from the memory buffer\n",
        "  def sample(self, batch_size):\n",
        "    experiences = random.sample(self.memory, k = batch_size)\n",
        "    # A for loop iterating through the experiences starting at the first element 0; then convert to Torch Pytorch tensor?, datatype is float, then move to designated device, GPU or CPU\n",
        "    states = torch.from_numpy(np.vstack([e[0] for e in experiences if e is not None])).float().to(self.device)\n",
        "    actions = torch.from_numpy(np.vstack([e[1] for e in experiences if e is not None])).long().to(self.device)\n",
        "    rewards = torch.from_numpy(np.vstack([e[2] for e in experiences if e is not None])).float().to(self.device)\n",
        "    next_states = torch.from_numpy(np.vstack([e[3] for e in experiences if e is not None])).float().to(self.device)\n",
        "    dones = torch.from_numpy(np.vstack([e[4] for e in experiences if e is not None]).astype(np.uint8)).float().to(self.device) # has to be cast as a uint8 before float\n",
        "    return states, next_states, actions, rewards, dones\n"
      ],
      "metadata": {
        "id": "VtCfFmpuKBxE"
      },
      "execution_count": 6,
      "outputs": []
    },
    {
      "cell_type": "markdown",
      "metadata": {
        "id": "JmEkbFbUY6Jt"
      },
      "source": [
        "### Implementing the DQN class"
      ]
    },
    {
      "cell_type": "code",
      "source": [
        "class Agent():\n",
        "  # Created the agent class that define the behavior of an agent that interact that uses a Deep Q network (using local_qnetwork(select the actions ) and  the\n",
        "  # target_qnetwork(calculate the target Q values that will be used in the training of the local_qnetwork )) and they interact\n",
        "  # This double Q network will stabilize this learning process; then updating the target_qnetwork parameters by blending them with those of the local_qnetwork to prevent abrupt changes that could de-stablizize the training\n",
        "  # Implement Act method, helps the Agent choose an action based on its current understanding of the optimal policy; those actions will be returned from the local_qnetwork that will forward propagate the state to return the action values\n",
        "  # ... and then following an eval policy will return the final action. The epsilon greedy? strategy is used as an expiration mechanism; The random method allows the agent to learn with more options\n",
        "  # The learn method uses experiences that are sampled from the Replay memory next states, the local_qnetworks q values towards the target_qnetwork values\n",
        "  def __init__(self, state_size, action_size):\n",
        "    self.device = torch.device(\"cuda:0\" if torch.cuda.is_available() else \"cpu\")\n",
        "    self.state_size = state_size\n",
        "    self.action_size = action_size #also number_actions\n",
        "    self.local_qnetwork = NeuralNetwork(state_size, action_size).to(self.device)\n",
        "    self.target_qnetwork = NeuralNetwork(state_size, action_size).to(self.device)\n",
        "    self.optimizer = optim.Adam(self.local_qnetwork.parameters(), lr = learning_rate) #Implements Adam algorithm\n",
        "    self.memory = ReplayMemory(replay_buffer_size)\n",
        "    self.time_step = 0\n",
        "\n",
        "  def step(self, state, action, reward, next_state, done): # state, action, reward, next_state, done\n",
        "    self.memory.push((state, action, reward, next_state, done)) #Stores experience and decides when to learn from the experience\n",
        "    self.time_step = (self.time_step + 1) % 4 # Increment; Reset every 4 steps\n",
        "    if self.time_step == 0: #We will learn now\n",
        "      if len(self.memory.memory) > minibatch_size: #Instance of the ReplyMemory class referencing 'memory' attribute\n",
        "        experiences = self.memory.sample(100)\n",
        "        self.learn(experiences, discount_factor) #Passing in gamma\n",
        "\n",
        "  def act(self, state, epsilon = 0.):  #state is a numpy array and needs to be a torch sensor\n",
        "    state = torch.from_numpy(state).float().unsqueeze(0).to(self.device) #Which batch this states belongs to\n",
        "    self.local_qnetwork.eval()\n",
        "    with torch.no_grad():\n",
        "      action_values = self.local_qnetwork(state) #Inference Mode; not training mode\n",
        "    self.local_qnetwork.train() # Back to training mode\n",
        "    #If randmom generated number is larger than epsilon, then we select the action with the highest Q Value, otherwise if it's less, we just select random action\n",
        "    if random.random() > epsilon:\n",
        "      return np.argmax(action_values.cpu().data.numpy()) #Send to CPU; expects a numpy data format\n",
        "    else:\n",
        "      return random.choice(np.arange(self.action_size)) #Uses a random choice that takes a value from our action_sizes, 0,1,2,3\n",
        "\n",
        "  def learn(self, experiences, discount_factor):\n",
        "    states, next_states, actions, rewards, dones = experiences # The tuples of these elements\n",
        "    # Action values of our target qNetowrk propagating the Next States; We want the Maximum of these Action Values of the next states\n",
        "    #We detach the resulting tensor from the computation graph, means we won't be tracking gradients for this tensor during the backward propagation\n",
        "    next_q_targets = self.target_qnetwork(next_states).detach().max(1)[0].unsqueeze(1) # We need dimension 1 and then use brackets to select q values tensor; then add the dimension of the batch in the unsqueeze\n",
        "    q_targets = rewards + discount_factor * next_q_targets * (1 - dones)  #REMEMBER THIS FORMULA; WE'LL USE IT OFTEN\n",
        "    q_expected = self.local_qnetwork(states).gather(1, actions)\n",
        "    # Calculate the Loss\n",
        "    loss = F.mse_loss(q_expected, q_targets)\n",
        "    #zero reset\n",
        "    self.optimizer.zero_grad()\n",
        "    #back propagate and zero reset\n",
        "    loss.backward()\n",
        "    #Updates the parameters of the model\n",
        "    self.optimizer.step()\n",
        "    self.soft_update(self.local_qnetwork, self.target_qnetwork, interpolation_parameter)\n",
        "\n",
        "  def soft_update(self, local_model, target_model, interpolation_parameter):\n",
        "    #We obtain the parameters for the NN Model we inherited from\n",
        "    for target_param, local_param in zip(target_model.parameters(), local_model.parameters()): #What is zip() ?\n",
        "      #Updating using the weighting of the target and local parameters\n",
        "      target_param.data.copy_(interpolation_parameter * local_param.data + (1.0 - interpolation_parameter) * target_param.data)\n",
        "\n"
      ],
      "metadata": {
        "id": "0Rx-YdO1xBKV"
      },
      "execution_count": 10,
      "outputs": []
    },
    {
      "cell_type": "markdown",
      "metadata": {
        "id": "o1tZElccZmf6"
      },
      "source": [
        "### Initializing the DQN agent"
      ]
    },
    {
      "cell_type": "code",
      "source": [
        "agent = Agent(state_size, number_actions)"
      ],
      "metadata": {
        "id": "e1ZH7pPuL19_"
      },
      "execution_count": 11,
      "outputs": []
    },
    {
      "cell_type": "markdown",
      "metadata": {
        "id": "E8v0PtUfaVQp"
      },
      "source": [
        "### Training the DQN agent"
      ]
    },
    {
      "cell_type": "code",
      "source": [
        "number_episodes = 2000\n",
        "maximum_number_timesteps_per_episode = 1000\n",
        "epsilon_starting_value = 1.0\n",
        "epsilon_ending_value = 0.01\n",
        "epsilon_decay_value = 0.995\n",
        "epsilon = epsilon_starting_value\n",
        "scores_on_100_episodes = deque(maxlen = 100)\n",
        "\n",
        "for episode in range(1, number_episodes + 1):\n",
        "  state, _ = env.reset()\n",
        "  score = 0\n",
        "  for t in range(maximum_number_timesteps_per_episode):\n",
        "    action = agent.act(state, epsilon)\n",
        "    next_state, reward, done, _, _ = env.step(action)\n",
        "    agent.step(state, action, reward, next_state, done)\n",
        "    state = next_state\n",
        "    score += reward\n",
        "    if done:\n",
        "      break\n",
        "  scores_on_100_episodes.append(score)\n",
        "  epsilon = max(epsilon_ending_value, epsilon_decay_value * epsilon)\n",
        "  #Dynamic Print - keeping only the average rewards over 100 actions\n",
        "  print('\\r Episode {}\\t Average Score: {:.2f}'.format(episode, np.mean(scores_on_100_episodes)), end = \"\") #end provides the dynamic overwriting effect\n",
        "  if episode % 100 == 0: #Resetting every 100\n",
        "    print('\\r Episode {}\\t Average Score: {:.2f}'.format(episode, np.mean(scores_on_100_episodes)))\n",
        "  if np.mean(scores_on_100_episodes) >= 200.0:\n",
        "    print('\\n Environment solved in {:d} episodes! \\t Average Score: {:.2f}'.format(episode - 100, np.mean(scores_on_100_episodes)))\n",
        "    torch.save(agent.local_qnetwork.state_dict(), 'checkpoint.pth')\n",
        "    break\n",
        "\n",
        "\n"
      ],
      "metadata": {
        "colab": {
          "base_uri": "https://localhost:8080/"
        },
        "id": "SP6N7FmMNRRD",
        "outputId": "c0ad5baf-6482-4925-f7d9-4363000bdd3d"
      },
      "execution_count": 13,
      "outputs": [
        {
          "output_type": "stream",
          "name": "stdout",
          "text": [
            " Episode 100\t Average Score: -83.29\n",
            " Episode 200\t Average Score: -14.94\n",
            " Episode 300\t Average Score: 65.96\n",
            " Episode 400\t Average Score: 162.55\n",
            " Episode 493\t Average Score: 200.53\n",
            " Environment solved in 393 episodes! \t Average Score: 200.53\n"
          ]
        }
      ]
    },
    {
      "cell_type": "markdown",
      "metadata": {
        "id": "O8CNwdOTcCoP"
      },
      "source": [
        "## Part 3 - Visualizing the results"
      ]
    },
    {
      "cell_type": "code",
      "execution_count": 14,
      "metadata": {
        "id": "cb9nVvU2Okhk",
        "colab": {
          "base_uri": "https://localhost:8080/",
          "height": 459
        },
        "outputId": "e7de4f93-ca12-4de5-b3c8-157af6077bf1"
      },
      "outputs": [
        {
          "output_type": "stream",
          "name": "stderr",
          "text": [
            "WARNING:imageio_ffmpeg:IMAGEIO FFMPEG_WRITER WARNING: input image is not divisible by macro_block_size=16, resizing from (600, 400) to (608, 400) to ensure video compatibility with most codecs and players. To prevent resizing, make your input image divisible by the macro_block_size or set the macro_block_size to 1 (risking incompatibility).\n"
          ]
        },
        {
          "output_type": "display_data",
          "data": {
            "text/plain": [
              "<IPython.core.display.HTML object>"
            ],
            "text/html": [
              "<video alt=\"test\" autoplay\n",
              "                loop controls style=\"height: 400px;\">\n",
              "                <source src=\"data:video/mp4;base64,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\" type=\"video/mp4\" />\n",
              "             </video>"
            ]
          },
          "metadata": {}
        }
      ],
      "source": [
        "import glob\n",
        "import io\n",
        "import base64\n",
        "import imageio\n",
        "from IPython.display import HTML, display\n",
        "from gym.wrappers.monitoring.video_recorder import VideoRecorder\n",
        "\n",
        "def show_video_of_model(agent, env_name):\n",
        "    env = gym.make(env_name, render_mode='rgb_array')\n",
        "    state, _ = env.reset()\n",
        "    done = False\n",
        "    frames = []\n",
        "    while not done:\n",
        "        frame = env.render()\n",
        "        frames.append(frame)\n",
        "        action = agent.act(state)\n",
        "        state, reward, done, _, _ = env.step(action.item())\n",
        "    env.close()\n",
        "    imageio.mimsave('video.mp4', frames, fps=30)\n",
        "\n",
        "show_video_of_model(agent, 'LunarLander-v2')\n",
        "\n",
        "def show_video():\n",
        "    mp4list = glob.glob('*.mp4')\n",
        "    if len(mp4list) > 0:\n",
        "        mp4 = mp4list[0]\n",
        "        video = io.open(mp4, 'r+b').read()\n",
        "        encoded = base64.b64encode(video)\n",
        "        display(HTML(data='''<video alt=\"test\" autoplay\n",
        "                loop controls style=\"height: 400px;\">\n",
        "                <source src=\"data:video/mp4;base64,{0}\" type=\"video/mp4\" />\n",
        "             </video>'''.format(encoded.decode('ascii'))))\n",
        "    else:\n",
        "        print(\"Could not find video\")\n",
        "\n",
        "show_video()"
      ]
    }
  ],
  "metadata": {
    "colab": {
      "provenance": [],
      "include_colab_link": true
    },
    "kernelspec": {
      "display_name": "Python 3",
      "name": "python3"
    },
    "language_info": {
      "name": "python"
    }
  },
  "nbformat": 4,
  "nbformat_minor": 0
}